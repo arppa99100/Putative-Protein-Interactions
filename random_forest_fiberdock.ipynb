{
 "cells": [
  {
   "cell_type": "code",
   "execution_count": 1,
   "metadata": {
    "collapsed": true
   },
   "outputs": [],
   "source": [
    "# Render plots inline\n",
    "%matplotlib inline\n",
    "\n",
    "import sys\n",
    "import math\n",
    "import pickle\n",
    "import numpy as np\n",
    "import pandas as pd\n",
    "import matplotlib.pyplot as plt\n",
    "from sklearn.ensemble import RandomForestClassifier\n",
    "from sklearn import cross_validation\n",
    "from sklearn.metrics import roc_curve, roc_auc_score, matthews_corrcoef,auc\n",
    "\n",
    "pd.set_option('display.mpl_style', 'default')"
   ]
  },
  {
   "cell_type": "code",
   "execution_count": 2,
   "metadata": {
    "collapsed": false
   },
   "outputs": [
    {
     "name": "stdout",
     "output_type": "stream",
     "text": [
      "(8177, 12)\n"
     ]
    }
   ],
   "source": [
    "#Load the data into DataFrame\n",
    "header1 = ['Binary','GE','E1','E2','E3','E4','E5','E6','E7','E8','E9','E11']\n",
    "input1 = pd.read_csv(\"./fiberdock_dataset.txt\",delim_whitespace=True,names=header1)\n",
    "print input1.shape"
   ]
  },
  {
   "cell_type": "code",
   "execution_count": 3,
   "metadata": {
    "collapsed": false
   },
   "outputs": [
    {
     "data": {
      "text/html": [
       "<div>\n",
       "<table border=\"1\" class=\"dataframe\">\n",
       "  <thead>\n",
       "    <tr style=\"text-align: right;\">\n",
       "      <th></th>\n",
       "      <th>Binary</th>\n",
       "      <th>GE</th>\n",
       "      <th>E1</th>\n",
       "      <th>E2</th>\n",
       "      <th>E3</th>\n",
       "      <th>E4</th>\n",
       "      <th>E5</th>\n",
       "      <th>E6</th>\n",
       "      <th>E7</th>\n",
       "      <th>E8</th>\n",
       "      <th>E9</th>\n",
       "      <th>E11</th>\n",
       "    </tr>\n",
       "  </thead>\n",
       "  <tbody>\n",
       "    <tr>\n",
       "      <th>0</th>\n",
       "      <td>0</td>\n",
       "      <td>-1.918574</td>\n",
       "      <td>2.352688</td>\n",
       "      <td>-1.256208</td>\n",
       "      <td>0.165204</td>\n",
       "      <td>0.875413</td>\n",
       "      <td>-0.796668</td>\n",
       "      <td>0.578033</td>\n",
       "      <td>-1.552604</td>\n",
       "      <td>0.490196</td>\n",
       "      <td>-1.355415</td>\n",
       "      <td>-2.487593</td>\n",
       "    </tr>\n",
       "    <tr>\n",
       "      <th>1</th>\n",
       "      <td>0</td>\n",
       "      <td>0.863482</td>\n",
       "      <td>-0.771219</td>\n",
       "      <td>0.321163</td>\n",
       "      <td>-0.355404</td>\n",
       "      <td>0.519046</td>\n",
       "      <td>-0.584898</td>\n",
       "      <td>0.819217</td>\n",
       "      <td>-0.596050</td>\n",
       "      <td>0.650031</td>\n",
       "      <td>1.081440</td>\n",
       "      <td>0.489979</td>\n",
       "    </tr>\n",
       "    <tr>\n",
       "      <th>2</th>\n",
       "      <td>0</td>\n",
       "      <td>-0.308162</td>\n",
       "      <td>-0.881623</td>\n",
       "      <td>0.770948</td>\n",
       "      <td>-0.704080</td>\n",
       "      <td>0.590574</td>\n",
       "      <td>-0.411634</td>\n",
       "      <td>0.514761</td>\n",
       "      <td>-0.201861</td>\n",
       "      <td>-2.592647</td>\n",
       "      <td>-0.834036</td>\n",
       "      <td>0.455020</td>\n",
       "    </tr>\n",
       "    <tr>\n",
       "      <th>3</th>\n",
       "      <td>1</td>\n",
       "      <td>0.115547</td>\n",
       "      <td>-0.098220</td>\n",
       "      <td>0.450806</td>\n",
       "      <td>0.109409</td>\n",
       "      <td>0.333842</td>\n",
       "      <td>1.671182</td>\n",
       "      <td>-1.002108</td>\n",
       "      <td>1.207697</td>\n",
       "      <td>0.853287</td>\n",
       "      <td>0.583520</td>\n",
       "      <td>0.338002</td>\n",
       "    </tr>\n",
       "    <tr>\n",
       "      <th>4</th>\n",
       "      <td>0</td>\n",
       "      <td>1.128977</td>\n",
       "      <td>-0.697629</td>\n",
       "      <td>-0.008794</td>\n",
       "      <td>0.021314</td>\n",
       "      <td>0.674746</td>\n",
       "      <td>-0.630938</td>\n",
       "      <td>-0.536656</td>\n",
       "      <td>1.224291</td>\n",
       "      <td>0.666598</td>\n",
       "      <td>-1.625399</td>\n",
       "      <td>-1.019776</td>\n",
       "    </tr>\n",
       "  </tbody>\n",
       "</table>\n",
       "</div>"
      ],
      "text/plain": [
       "   Binary        GE        E1        E2        E3        E4        E5  \\\n",
       "0       0 -1.918574  2.352688 -1.256208  0.165204  0.875413 -0.796668   \n",
       "1       0  0.863482 -0.771219  0.321163 -0.355404  0.519046 -0.584898   \n",
       "2       0 -0.308162 -0.881623  0.770948 -0.704080  0.590574 -0.411634   \n",
       "3       1  0.115547 -0.098220  0.450806  0.109409  0.333842  1.671182   \n",
       "4       0  1.128977 -0.697629 -0.008794  0.021314  0.674746 -0.630938   \n",
       "\n",
       "         E6        E7        E8        E9       E11  \n",
       "0  0.578033 -1.552604  0.490196 -1.355415 -2.487593  \n",
       "1  0.819217 -0.596050  0.650031  1.081440  0.489979  \n",
       "2  0.514761 -0.201861 -2.592647 -0.834036  0.455020  \n",
       "3 -1.002108  1.207697  0.853287  0.583520  0.338002  \n",
       "4 -0.536656  1.224291  0.666598 -1.625399 -1.019776  "
      ]
     },
     "execution_count": 3,
     "metadata": {},
     "output_type": "execute_result"
    }
   ],
   "source": [
    "input1.head()"
   ]
  },
  {
   "cell_type": "markdown",
   "metadata": {},
   "source": [
    "The input file contains 11 energy terms such as attractive and repulsive van de Waals force, atomic contact energy, partial electrostatics, hydrogen and disulfide bonds, pi-stacking, aliphatic interactions and more for each refined solution produced by FiberDock. The energies were standardized independently for each target complex in order to account for proteins of different lengths forming interfaces of different sizes. Each raw attribute had been converted to the standard score (Z-score)."
   ]
  },
  {
   "cell_type": "markdown",
   "metadata": {},
   "source": [
    "# Data Cleaning"
   ]
  },
  {
   "cell_type": "markdown",
   "metadata": {},
   "source": [
    "The data has already been standardized to remove any peculiar behaviour. However, we need to find if any of the data needs to be fixed or removed to be more realistic. "
   ]
  },
  {
   "cell_type": "code",
   "execution_count": 4,
   "metadata": {
    "collapsed": false
   },
   "outputs": [
    {
     "data": {
      "text/plain": [
       "Binary    0.000000\n",
       "GE        0.000000\n",
       "E1        0.000000\n",
       "E2        0.000000\n",
       "E3        0.000000\n",
       "E4        0.733765\n",
       "E5        0.648159\n",
       "E6        0.269047\n",
       "E7        0.256818\n",
       "E8        2.837226\n",
       "E9        0.122294\n",
       "E11       1.577596\n",
       "dtype: float64"
      ]
     },
     "execution_count": 4,
     "metadata": {},
     "output_type": "execute_result"
    }
   ],
   "source": [
    "input1_nan = (input1.isnull().sum()/input1.shape[0]) * 100\n",
    "input1_nan"
   ]
  },
  {
   "cell_type": "markdown",
   "metadata": {},
   "source": [
    "We have a few NaN in most of the Energy terms. We need to handle the NaN such that we do not penalize a target complex because of absence of a particular interaction energy. So we replace NaN with the median."
   ]
  },
  {
   "cell_type": "code",
   "execution_count": 5,
   "metadata": {
    "collapsed": false
   },
   "outputs": [],
   "source": [
    "input2 = input1.copy()\n",
    "input2['E4'].fillna(input2.E4.median(),inplace=True)\n",
    "input2['E5'].fillna(input2.E5.median(),inplace=True)\n",
    "input2['E6'].fillna(input2.E6.median(),inplace=True)\n",
    "input2['E7'].fillna(input2.E7.median(),inplace=True)\n",
    "input2['E8'].fillna(input2.E8.median(),inplace=True)\n",
    "input2['E9'].fillna(input2.E9.median(),inplace=True)\n",
    "input2['E11'].fillna(input2.E11.median(),inplace=True)\n",
    "\n",
    "#print \"Medians \\nE4 %f \\nE5 %f \\nE6 %f \\nE7 %f \\nE8 %f \\nE9 %f \\nE11 %f \\n\" %(input2.E4.median(),input2.E5.median(),input2.E5.median(),input2.E7.median(),input2.E8.median(),input2.E9.median(),input2.E11.median())"
   ]
  },
  {
   "cell_type": "code",
   "execution_count": 6,
   "metadata": {
    "collapsed": false
   },
   "outputs": [
    {
     "data": {
      "text/plain": [
       "Binary    0\n",
       "GE        0\n",
       "E1        0\n",
       "E2        0\n",
       "E3        0\n",
       "E4        0\n",
       "E5        0\n",
       "E6        0\n",
       "E7        0\n",
       "E8        0\n",
       "E9        0\n",
       "E11       0\n",
       "dtype: float64"
      ]
     },
     "execution_count": 6,
     "metadata": {},
     "output_type": "execute_result"
    }
   ],
   "source": [
    "input2_nan = (input2.isnull().sum()/input2.shape[0]) * 100\n",
    "input2_nan"
   ]
  },
  {
   "cell_type": "markdown",
   "metadata": {},
   "source": [
    "Making sure that there are no missing values in our data"
   ]
  },
  {
   "cell_type": "markdown",
   "metadata": {},
   "source": [
    "#Supervised Learning : Random Forest Classifier"
   ]
  },
  {
   "cell_type": "code",
   "execution_count": 7,
   "metadata": {
    "collapsed": false
   },
   "outputs": [],
   "source": [
    "def train(X, y):\n",
    "    rfc = RandomForestClassifier(n_estimators=100)\n",
    "    return rfc.fit(X, y)\n",
    "\n",
    "y = input2['Binary'].values\n",
    "X = input2[['GE','E1','E2','E3','E4','E5','E6','E7','E8','E9','E11']].values\n",
    "\n",
    "rfc_E11_model = train(X,y)\n",
    "with open(\"./rfc_E11.pkl\", 'w') as f:\n",
    "    pickle.dump(rfc_E11_model, f)"
   ]
  },
  {
   "cell_type": "markdown",
   "metadata": {},
   "source": [
    "#Validation ROC Curve and AUC"
   ]
  },
  {
   "cell_type": "code",
   "execution_count": 8,
   "metadata": {
    "collapsed": false
   },
   "outputs": [
    {
     "name": "stdout",
     "output_type": "stream",
     "text": [
      "Results of 5 fold cross-validation \n",
      "\n",
      "ACC: Accuracy AUC: Area Under the Curve MCC: Matthews Correlation Coefficient\n",
      "\n",
      "Fold 0 -> ACC : 0.925, AUC : 0.960, MCC : 0.728\n",
      "Fold 1 -> ACC : 0.928, AUC : 0.950, MCC : 0.718\n",
      "Fold 2 -> ACC : 0.934, AUC : 0.959, MCC : 0.730\n",
      "Fold 3 -> ACC : 0.935, AUC : 0.955, MCC : 0.686\n",
      "Fold 4 -> ACC : 0.928, AUC : 0.952, MCC : 0.703\n"
     ]
    }
   ],
   "source": [
    "total_elem = len(y)\n",
    "\n",
    "kf = cross_validation.KFold(total_elem, n_folds=5)\n",
    "print \"Results of %d fold cross-validation \\n\" % len(kf)\n",
    "print \"ACC: Accuracy AUC: Area Under the Curve MCC: Matthews Correlation Coefficient\\n\"\n",
    "\n",
    "for k, (train_index, test_index) in enumerate(kf):\n",
    "    X_train, X_test = X[train_index], X[test_index]\n",
    "    y_train, y_test = y[train_index], y[test_index]\n",
    "    \n",
    "    clf = train(X_train, y_train)\n",
    "    accuracy = clf.score(X_test, y_test)\n",
    "    \n",
    "    probs = clf.predict_proba(X_test) # probs has 2 columns  [negativer_prob , posisitve_prob]\n",
    "    pos_probs = probs[:, 1]  # pos probabilities are in the second column\n",
    "    \n",
    "    fpr, tpr, thresholds = roc_curve(y_test, pos_probs, pos_label=1)\n",
    "    roc_auc = auc(fpr, tpr)\n",
    "\n",
    "    pred = np.where(pos_probs>0.21,1,0)\n",
    "    mcc = matthews_corrcoef(y_test, pred)\n",
    "    \n",
    "    print \"Fold %d -> ACC : %0.3f, AUC : %0.3f, MCC : %0.3f\" %(k,accuracy,roc_auc,mcc)"
   ]
  },
  {
   "cell_type": "code",
   "execution_count": 11,
   "metadata": {
    "collapsed": false
   },
   "outputs": [
    {
     "data": {
      "text/plain": [
       "<function matplotlib.pyplot.show>"
      ]
     },
     "execution_count": 11,
     "metadata": {},
     "output_type": "execute_result"
    },
    {
     "data": {
      "image/png": "[encoded data removed]",
      "text/plain": [
       "<matplotlib.figure.Figure at 0x7f23b85fd3d0>"
      ]
     },
     "metadata": {},
     "output_type": "display_data"
    }
   ],
   "source": [
    "#Plot the ROC Curve \n",
    "plt.rcParams['figure.figsize'] = (5, 5)\n",
    "plt.plot(fpr,tpr,'b', label='ROC curve (area = %0.2f)' % roc_auc)\n",
    "plt.plot([0, 1], [0, 1], 'k--')\n",
    "plt.xlim([0.0, 1.0])\n",
    "plt.ylim([0.0, 1.05])\n",
    "plt.xlabel('False Positive Rate')\n",
    "plt.ylabel('True Positive Rate')\n",
    "plt.title('ROC Curve')\n",
    "plt.legend(loc=\"lower right\")\n",
    "plt.show"
   ]
  },
  {
   "cell_type": "markdown",
   "metadata": {},
   "source": [
    "#Feature Importance"
   ]
  },
  {
   "cell_type": "markdown",
   "metadata": {},
   "source": [
    "Determine and graph the features’ importance of the RFC model."
   ]
  },
  {
   "cell_type": "code",
   "execution_count": 12,
   "metadata": {
    "collapsed": true
   },
   "outputs": [],
   "source": [
    "#feature_list = input2.columns.values[1::]\n",
    "feature_list = np.array(['glob','aVdW','rVdW','ACE','inside','aElec','rElec','laElec','lrElec','hb','catpiS'])\n",
    "#Feature Importance\n",
    "feature_importance = rfc_E11_model.feature_importances_\n",
    "#Make importances relative to max importance\n",
    "feature_importance = 100.0 * (feature_importance / feature_importance.max())"
   ]
  },
  {
   "cell_type": "code",
   "execution_count": 13,
   "metadata": {
    "collapsed": false
   },
   "outputs": [
    {
     "name": "stdout",
     "output_type": "stream",
     "text": [
      "\n",
      "Features sorted by importance (DESC):\n",
      "['glob' 'catpiS' 'hb' 'rVdW' 'inside' 'rElec' 'lrElec' 'aVdW' 'aElec'\n",
      " 'laElec' 'ACE']\n"
     ]
    }
   ],
   "source": [
    "#Get a list of sorted indexes of important features\n",
    "sorted_idx = np.argsort(feature_importance)[::-1]\n",
    "print \"\\nFeatures sorted by importance (DESC):\\n\", feature_list[sorted_idx]"
   ]
  },
  {
   "cell_type": "code",
   "execution_count": 14,
   "metadata": {
    "collapsed": false
   },
   "outputs": [
    {
     "data": {
      "text/plain": [
       "array([ 100.        ,   64.34386291,   63.80558456,   62.23702509,\n",
       "         38.07900001,   28.79285825,   21.27955356,   19.23826245,\n",
       "         15.66701089,   15.46892892,   14.70634447])"
      ]
     },
     "execution_count": 14,
     "metadata": {},
     "output_type": "execute_result"
    }
   ],
   "source": [
    "feature_importance[sorted_idx]"
   ]
  },
  {
   "cell_type": "code",
   "execution_count": 15,
   "metadata": {
    "collapsed": false
   },
   "outputs": [],
   "source": [
    "features_sorted = pd.Series(feature_importance[sorted_idx],index=feature_list[sorted_idx])"
   ]
  },
  {
   "cell_type": "code",
   "execution_count": 16,
   "metadata": {
    "collapsed": false
   },
   "outputs": [
    {
     "data": {
      "text/plain": [
       "<matplotlib.text.Text at 0x7f2384bc1bd0>"
      ]
     },
     "execution_count": 16,
     "metadata": {},
     "output_type": "execute_result"
    },
    {
     "data": {
      "image/png": "[encoded data removed]",
      "text/plain": [
       "<matplotlib.figure.Figure at 0x7f2384c21f10>"
      ]
     },
     "metadata": {},
     "output_type": "display_data"
    }
   ],
   "source": [
    "#Plot a bar graph to compare the model's various features' importance. \n",
    "plt.rcParams['figure.figsize'] = (15, 5)\n",
    "features_sorted.plot(kind='bar')\n",
    "plt.title('Feature Importances')\n",
    "plt.ylabel('Relative Importance')"
   ]
  },
  {
   "cell_type": "markdown",
   "metadata": {},
   "source": [
    "#Prediction for a sample case"
   ]
  },
  {
   "cell_type": "markdown",
   "metadata": {},
   "source": [
    "Load the raw data :"
   ]
  },
  {
   "cell_type": "code",
   "execution_count": 17,
   "metadata": {
    "collapsed": false
   },
   "outputs": [
    {
     "data": {
      "text/html": [
       "<div>\n",
       "<table border=\"1\" class=\"dataframe\">\n",
       "  <thead>\n",
       "    <tr style=\"text-align: right;\">\n",
       "      <th></th>\n",
       "      <th>GE</th>\n",
       "      <th>E1</th>\n",
       "      <th>E2</th>\n",
       "      <th>E3</th>\n",
       "      <th>E4</th>\n",
       "      <th>E5</th>\n",
       "      <th>E6</th>\n",
       "      <th>E7</th>\n",
       "      <th>E8</th>\n",
       "      <th>E9</th>\n",
       "      <th>E11</th>\n",
       "    </tr>\n",
       "  </thead>\n",
       "  <tbody>\n",
       "    <tr>\n",
       "      <th>0</th>\n",
       "      <td>-29.06</td>\n",
       "      <td>12.80</td>\n",
       "      <td>-3.00</td>\n",
       "      <td>16.43</td>\n",
       "      <td>0.00</td>\n",
       "      <td>0</td>\n",
       "      <td>0.00</td>\n",
       "      <td>0.00</td>\n",
       "      <td>0.00</td>\n",
       "      <td>-14</td>\n",
       "      <td>-4.5</td>\n",
       "    </tr>\n",
       "    <tr>\n",
       "      <th>1</th>\n",
       "      <td>-30.94</td>\n",
       "      <td>10.11</td>\n",
       "      <td>-6.88</td>\n",
       "      <td>21.09</td>\n",
       "      <td>0.00</td>\n",
       "      <td>0</td>\n",
       "      <td>0.00</td>\n",
       "      <td>0.00</td>\n",
       "      <td>-1.83</td>\n",
       "      <td>-4</td>\n",
       "      <td>-3.0</td>\n",
       "    </tr>\n",
       "    <tr>\n",
       "      <th>2</th>\n",
       "      <td>-31.52</td>\n",
       "      <td>23.46</td>\n",
       "      <td>-6.12</td>\n",
       "      <td>31.66</td>\n",
       "      <td>0.00</td>\n",
       "      <td>0</td>\n",
       "      <td>-2.65</td>\n",
       "      <td>0.00</td>\n",
       "      <td>0.00</td>\n",
       "      <td>-15</td>\n",
       "      <td>-3.0</td>\n",
       "    </tr>\n",
       "    <tr>\n",
       "      <th>3</th>\n",
       "      <td>-24.06</td>\n",
       "      <td>27.38</td>\n",
       "      <td>-3.11</td>\n",
       "      <td>20.91</td>\n",
       "      <td>-18.63</td>\n",
       "      <td>0</td>\n",
       "      <td>-5.68</td>\n",
       "      <td>33.08</td>\n",
       "      <td>0.00</td>\n",
       "      <td>-5</td>\n",
       "      <td>-3.0</td>\n",
       "    </tr>\n",
       "    <tr>\n",
       "      <th>4</th>\n",
       "      <td>-17.48</td>\n",
       "      <td>15.59</td>\n",
       "      <td>-1.16</td>\n",
       "      <td>18.70</td>\n",
       "      <td>-45.45</td>\n",
       "      <td>0</td>\n",
       "      <td>-7.68</td>\n",
       "      <td>0.00</td>\n",
       "      <td>0.00</td>\n",
       "      <td>-2</td>\n",
       "      <td>-1.5</td>\n",
       "    </tr>\n",
       "  </tbody>\n",
       "</table>\n",
       "</div>"
      ],
      "text/plain": [
       "      GE     E1    E2     E3     E4  E5    E6     E7    E8  E9  E11\n",
       "0 -29.06  12.80 -3.00  16.43   0.00   0  0.00   0.00  0.00 -14 -4.5\n",
       "1 -30.94  10.11 -6.88  21.09   0.00   0  0.00   0.00 -1.83  -4 -3.0\n",
       "2 -31.52  23.46 -6.12  31.66   0.00   0 -2.65   0.00  0.00 -15 -3.0\n",
       "3 -24.06  27.38 -3.11  20.91 -18.63   0 -5.68  33.08  0.00  -5 -3.0\n",
       "4 -17.48  15.59 -1.16  18.70 -45.45   0 -7.68   0.00  0.00  -2 -1.5"
      ]
     },
     "execution_count": 17,
     "metadata": {},
     "output_type": "execute_result"
    }
   ],
   "source": [
    "with open ('1amh.ref') as f:\n",
    "    filelength = len(f.readlines())\n",
    "noscorelines = filelength - 10\n",
    "\n",
    "header_energy = ['GE','E1','E2','E3','E4','E5','E6','E7','E8','E9','E11']\n",
    "raw_data = pd.read_csv('1amh.ref', skiprows=noscorelines, delimiter='|',usecols=(2,3,4,5,6,7,8,9,10,11,13),names=header_energy)\n",
    "\n",
    "raw_data.head()"
   ]
  },
  {
   "cell_type": "markdown",
   "metadata": {},
   "source": [
    "Prepare the data. Here we are normalizing it as the M/C model was trained on normalized data."
   ]
  },
  {
   "cell_type": "code",
   "execution_count": 18,
   "metadata": {
    "collapsed": false
   },
   "outputs": [
    {
     "data": {
      "text/html": [
       "<div>\n",
       "<table border=\"1\" class=\"dataframe\">\n",
       "  <thead>\n",
       "    <tr style=\"text-align: right;\">\n",
       "      <th></th>\n",
       "      <th>GE_zscore</th>\n",
       "      <th>E1_zscore</th>\n",
       "      <th>E2_zscore</th>\n",
       "      <th>E3_zscore</th>\n",
       "      <th>E4_zscore</th>\n",
       "      <th>E5_zscore</th>\n",
       "      <th>E6_zscore</th>\n",
       "      <th>E7_zscore</th>\n",
       "      <th>E8_zscore</th>\n",
       "      <th>E9_zscore</th>\n",
       "      <th>E11_zscore</th>\n",
       "    </tr>\n",
       "  </thead>\n",
       "  <tbody>\n",
       "    <tr>\n",
       "      <th>0</th>\n",
       "      <td>-0.786459</td>\n",
       "      <td>-0.260961</td>\n",
       "      <td>-0.121305</td>\n",
       "      <td>-1.304330</td>\n",
       "      <td>0.632441</td>\n",
       "      <td>NaN</td>\n",
       "      <td>0.835326</td>\n",
       "      <td>-0.440888</td>\n",
       "      <td>0.652752</td>\n",
       "      <td>-1.533370</td>\n",
       "      <td>-1.311425</td>\n",
       "    </tr>\n",
       "    <tr>\n",
       "      <th>1</th>\n",
       "      <td>-1.091880</td>\n",
       "      <td>-0.681564</td>\n",
       "      <td>-1.389935</td>\n",
       "      <td>-0.146141</td>\n",
       "      <td>0.632441</td>\n",
       "      <td>NaN</td>\n",
       "      <td>0.835326</td>\n",
       "      <td>-0.440888</td>\n",
       "      <td>-1.461471</td>\n",
       "      <td>0.538752</td>\n",
       "      <td>0.045222</td>\n",
       "    </tr>\n",
       "    <tr>\n",
       "      <th>2</th>\n",
       "      <td>-1.186105</td>\n",
       "      <td>1.405814</td>\n",
       "      <td>-1.141441</td>\n",
       "      <td>2.480910</td>\n",
       "      <td>0.632441</td>\n",
       "      <td>NaN</td>\n",
       "      <td>0.245658</td>\n",
       "      <td>-0.440888</td>\n",
       "      <td>0.652752</td>\n",
       "      <td>-1.740582</td>\n",
       "      <td>0.045222</td>\n",
       "    </tr>\n",
       "    <tr>\n",
       "      <th>3</th>\n",
       "      <td>0.025831</td>\n",
       "      <td>2.018737</td>\n",
       "      <td>-0.157271</td>\n",
       "      <td>-0.190878</td>\n",
       "      <td>-0.695301</td>\n",
       "      <td>NaN</td>\n",
       "      <td>-0.428566</td>\n",
       "      <td>2.818235</td>\n",
       "      <td>0.652752</td>\n",
       "      <td>0.331539</td>\n",
       "      <td>0.045222</td>\n",
       "    </tr>\n",
       "    <tr>\n",
       "      <th>4</th>\n",
       "      <td>1.094804</td>\n",
       "      <td>0.175277</td>\n",
       "      <td>0.480314</td>\n",
       "      <td>-0.740147</td>\n",
       "      <td>-2.606736</td>\n",
       "      <td>NaN</td>\n",
       "      <td>-0.873599</td>\n",
       "      <td>-0.440888</td>\n",
       "      <td>0.652752</td>\n",
       "      <td>0.953176</td>\n",
       "      <td>1.401868</td>\n",
       "    </tr>\n",
       "  </tbody>\n",
       "</table>\n",
       "</div>"
      ],
      "text/plain": [
       "   GE_zscore  E1_zscore  E2_zscore  E3_zscore  E4_zscore  E5_zscore  \\\n",
       "0  -0.786459  -0.260961  -0.121305  -1.304330   0.632441        NaN   \n",
       "1  -1.091880  -0.681564  -1.389935  -0.146141   0.632441        NaN   \n",
       "2  -1.186105   1.405814  -1.141441   2.480910   0.632441        NaN   \n",
       "3   0.025831   2.018737  -0.157271  -0.190878  -0.695301        NaN   \n",
       "4   1.094804   0.175277   0.480314  -0.740147  -2.606736        NaN   \n",
       "\n",
       "   E6_zscore  E7_zscore  E8_zscore  E9_zscore  E11_zscore  \n",
       "0   0.835326  -0.440888   0.652752  -1.533370   -1.311425  \n",
       "1   0.835326  -0.440888  -1.461471   0.538752    0.045222  \n",
       "2   0.245658  -0.440888   0.652752  -1.740582    0.045222  \n",
       "3  -0.428566   2.818235   0.652752   0.331539    0.045222  \n",
       "4  -0.873599  -0.440888   0.652752   0.953176    1.401868  "
      ]
     },
     "execution_count": 18,
     "metadata": {},
     "output_type": "execute_result"
    }
   ],
   "source": [
    "zscore = lambda x: (x - x.mean()) / x.std(ddof=0)\n",
    "cols = list(raw_data.columns)\n",
    "for col in cols:\n",
    "    col_zscore = col + '_zscore'\n",
    "    raw_data[col_zscore] = zscore(raw_data[col])\n",
    "\n",
    "normalized_data=raw_data[['GE_zscore','E1_zscore','E2_zscore','E3_zscore', 'E4_zscore','E5_zscore','E6_zscore','E7_zscore','E8_zscore','E9_zscore','E11_zscore']]\n",
    "normalized_data.head()"
   ]
  },
  {
   "cell_type": "markdown",
   "metadata": {},
   "source": [
    "Clean the Data - Look for missing values. Here I am replacing the NaN in each coloum with their predetermined medians."
   ]
  },
  {
   "cell_type": "code",
   "execution_count": 19,
   "metadata": {
    "collapsed": false
   },
   "outputs": [
    {
     "name": "stderr",
     "output_type": "stream",
     "text": [
      "/home/sur/anaconda/lib/python2.7/site-packages/pandas/core/generic.py:2602: SettingWithCopyWarning: \n",
      "A value is trying to be set on a copy of a slice from a DataFrame\n",
      "\n",
      "See the the caveats in the documentation: http://pandas.pydata.org/pandas-docs/stable/indexing.html#indexing-view-versus-copy\n",
      "  self._update_inplace(new_data)\n"
     ]
    }
   ],
   "source": [
    "E4_median = 0.242619 \n",
    "E5_median = -0.358666 \n",
    "E6_median = -0.358666 \n",
    "E7_median = -0.206037 \n",
    "E8_median = 0.383606 \n",
    "E9_median = -0.134352 \n",
    "E11_median = 0.191091 \n",
    "normalized_data['E4_zscore'].fillna(E4_median,inplace=True)\n",
    "normalized_data['E5_zscore'].fillna(E5_median,inplace=True)\n",
    "normalized_data['E6_zscore'].fillna(E6_median,inplace=True)\n",
    "normalized_data['E7_zscore'].fillna(E7_median,inplace=True)\n",
    "normalized_data['E8_zscore'].fillna(E8_median,inplace=True)\n",
    "normalized_data['E9_zscore'].fillna(E9_median,inplace=True)\n",
    "normalized_data['E11_zscore'].fillna(E11_median,inplace=True)"
   ]
  },
  {
   "cell_type": "code",
   "execution_count": 20,
   "metadata": {
    "collapsed": false
   },
   "outputs": [
    {
     "data": {
      "text/html": [
       "<div>\n",
       "<table border=\"1\" class=\"dataframe\">\n",
       "  <thead>\n",
       "    <tr style=\"text-align: right;\">\n",
       "      <th></th>\n",
       "      <th>GE_zscore</th>\n",
       "      <th>E1_zscore</th>\n",
       "      <th>E2_zscore</th>\n",
       "      <th>E3_zscore</th>\n",
       "      <th>E4_zscore</th>\n",
       "      <th>E5_zscore</th>\n",
       "      <th>E6_zscore</th>\n",
       "      <th>E7_zscore</th>\n",
       "      <th>E8_zscore</th>\n",
       "      <th>E9_zscore</th>\n",
       "      <th>E11_zscore</th>\n",
       "    </tr>\n",
       "  </thead>\n",
       "  <tbody>\n",
       "    <tr>\n",
       "      <th>1</th>\n",
       "      <td>-0.786459</td>\n",
       "      <td>-0.260961</td>\n",
       "      <td>-0.121305</td>\n",
       "      <td>-1.304330</td>\n",
       "      <td>0.632441</td>\n",
       "      <td>-0.358666</td>\n",
       "      <td>0.835326</td>\n",
       "      <td>-0.440888</td>\n",
       "      <td>0.652752</td>\n",
       "      <td>-1.533370</td>\n",
       "      <td>-1.311425</td>\n",
       "    </tr>\n",
       "    <tr>\n",
       "      <th>2</th>\n",
       "      <td>-1.091880</td>\n",
       "      <td>-0.681564</td>\n",
       "      <td>-1.389935</td>\n",
       "      <td>-0.146141</td>\n",
       "      <td>0.632441</td>\n",
       "      <td>-0.358666</td>\n",
       "      <td>0.835326</td>\n",
       "      <td>-0.440888</td>\n",
       "      <td>-1.461471</td>\n",
       "      <td>0.538752</td>\n",
       "      <td>0.045222</td>\n",
       "    </tr>\n",
       "    <tr>\n",
       "      <th>3</th>\n",
       "      <td>-1.186105</td>\n",
       "      <td>1.405814</td>\n",
       "      <td>-1.141441</td>\n",
       "      <td>2.480910</td>\n",
       "      <td>0.632441</td>\n",
       "      <td>-0.358666</td>\n",
       "      <td>0.245658</td>\n",
       "      <td>-0.440888</td>\n",
       "      <td>0.652752</td>\n",
       "      <td>-1.740582</td>\n",
       "      <td>0.045222</td>\n",
       "    </tr>\n",
       "    <tr>\n",
       "      <th>4</th>\n",
       "      <td>0.025831</td>\n",
       "      <td>2.018737</td>\n",
       "      <td>-0.157271</td>\n",
       "      <td>-0.190878</td>\n",
       "      <td>-0.695301</td>\n",
       "      <td>-0.358666</td>\n",
       "      <td>-0.428566</td>\n",
       "      <td>2.818235</td>\n",
       "      <td>0.652752</td>\n",
       "      <td>0.331539</td>\n",
       "      <td>0.045222</td>\n",
       "    </tr>\n",
       "    <tr>\n",
       "      <th>5</th>\n",
       "      <td>1.094804</td>\n",
       "      <td>0.175277</td>\n",
       "      <td>0.480314</td>\n",
       "      <td>-0.740147</td>\n",
       "      <td>-2.606736</td>\n",
       "      <td>-0.358666</td>\n",
       "      <td>-0.873599</td>\n",
       "      <td>-0.440888</td>\n",
       "      <td>0.652752</td>\n",
       "      <td>0.953176</td>\n",
       "      <td>1.401868</td>\n",
       "    </tr>\n",
       "  </tbody>\n",
       "</table>\n",
       "</div>"
      ],
      "text/plain": [
       "   GE_zscore  E1_zscore  E2_zscore  E3_zscore  E4_zscore  E5_zscore  \\\n",
       "1  -0.786459  -0.260961  -0.121305  -1.304330   0.632441  -0.358666   \n",
       "2  -1.091880  -0.681564  -1.389935  -0.146141   0.632441  -0.358666   \n",
       "3  -1.186105   1.405814  -1.141441   2.480910   0.632441  -0.358666   \n",
       "4   0.025831   2.018737  -0.157271  -0.190878  -0.695301  -0.358666   \n",
       "5   1.094804   0.175277   0.480314  -0.740147  -2.606736  -0.358666   \n",
       "\n",
       "   E6_zscore  E7_zscore  E8_zscore  E9_zscore  E11_zscore  \n",
       "1   0.835326  -0.440888   0.652752  -1.533370   -1.311425  \n",
       "2   0.835326  -0.440888  -1.461471   0.538752    0.045222  \n",
       "3   0.245658  -0.440888   0.652752  -1.740582    0.045222  \n",
       "4  -0.428566   2.818235   0.652752   0.331539    0.045222  \n",
       "5  -0.873599  -0.440888   0.652752   0.953176    1.401868  "
      ]
     },
     "execution_count": 20,
     "metadata": {},
     "output_type": "execute_result"
    }
   ],
   "source": [
    "normalized_data.index += 1\n",
    "normalized_data.head()"
   ]
  },
  {
   "cell_type": "markdown",
   "metadata": {},
   "source": [
    "Select the top 3 models based on their GE_Zscore. The lower the score, the better the model."
   ]
  },
  {
   "cell_type": "code",
   "execution_count": 21,
   "metadata": {
    "collapsed": true
   },
   "outputs": [],
   "source": [
    "top3modelno = normalized_data.GE_zscore.values.argsort()[:3]"
   ]
  },
  {
   "cell_type": "code",
   "execution_count": 22,
   "metadata": {
    "collapsed": false
   },
   "outputs": [
    {
     "data": {
      "text/html": [
       "<div>\n",
       "<table border=\"1\" class=\"dataframe\">\n",
       "  <thead>\n",
       "    <tr style=\"text-align: right;\">\n",
       "      <th></th>\n",
       "      <th>GE_zscore</th>\n",
       "      <th>E1_zscore</th>\n",
       "      <th>E2_zscore</th>\n",
       "      <th>E3_zscore</th>\n",
       "      <th>E4_zscore</th>\n",
       "      <th>E5_zscore</th>\n",
       "      <th>E6_zscore</th>\n",
       "      <th>E7_zscore</th>\n",
       "      <th>E8_zscore</th>\n",
       "      <th>E9_zscore</th>\n",
       "      <th>E11_zscore</th>\n",
       "    </tr>\n",
       "  </thead>\n",
       "  <tbody>\n",
       "    <tr>\n",
       "      <th>3</th>\n",
       "      <td>-1.186105</td>\n",
       "      <td>1.405814</td>\n",
       "      <td>-1.141441</td>\n",
       "      <td>2.480910</td>\n",
       "      <td>0.632441</td>\n",
       "      <td>-0.358666</td>\n",
       "      <td>0.245658</td>\n",
       "      <td>-0.440888</td>\n",
       "      <td>0.652752</td>\n",
       "      <td>-1.740582</td>\n",
       "      <td>0.045222</td>\n",
       "    </tr>\n",
       "    <tr>\n",
       "      <th>2</th>\n",
       "      <td>-1.091880</td>\n",
       "      <td>-0.681564</td>\n",
       "      <td>-1.389935</td>\n",
       "      <td>-0.146141</td>\n",
       "      <td>0.632441</td>\n",
       "      <td>-0.358666</td>\n",
       "      <td>0.835326</td>\n",
       "      <td>-0.440888</td>\n",
       "      <td>-1.461471</td>\n",
       "      <td>0.538752</td>\n",
       "      <td>0.045222</td>\n",
       "    </tr>\n",
       "    <tr>\n",
       "      <th>7</th>\n",
       "      <td>-1.064262</td>\n",
       "      <td>-0.140566</td>\n",
       "      <td>-1.471677</td>\n",
       "      <td>-0.233129</td>\n",
       "      <td>0.632441</td>\n",
       "      <td>-0.358666</td>\n",
       "      <td>0.835326</td>\n",
       "      <td>-0.440888</td>\n",
       "      <td>-1.392152</td>\n",
       "      <td>0.538752</td>\n",
       "      <td>-1.311425</td>\n",
       "    </tr>\n",
       "  </tbody>\n",
       "</table>\n",
       "</div>"
      ],
      "text/plain": [
       "   GE_zscore  E1_zscore  E2_zscore  E3_zscore  E4_zscore  E5_zscore  \\\n",
       "3  -1.186105   1.405814  -1.141441   2.480910   0.632441  -0.358666   \n",
       "2  -1.091880  -0.681564  -1.389935  -0.146141   0.632441  -0.358666   \n",
       "7  -1.064262  -0.140566  -1.471677  -0.233129   0.632441  -0.358666   \n",
       "\n",
       "   E6_zscore  E7_zscore  E8_zscore  E9_zscore  E11_zscore  \n",
       "3   0.245658  -0.440888   0.652752  -1.740582    0.045222  \n",
       "2   0.835326  -0.440888  -1.461471   0.538752    0.045222  \n",
       "7   0.835326  -0.440888  -1.392152   0.538752   -1.311425  "
      ]
     },
     "execution_count": 22,
     "metadata": {},
     "output_type": "execute_result"
    }
   ],
   "source": [
    "normalized_data.iloc[top3modelno]"
   ]
  },
  {
   "cell_type": "markdown",
   "metadata": {},
   "source": [
    "Load the Model and make a prediction."
   ]
  },
  {
   "cell_type": "code",
   "execution_count": 23,
   "metadata": {
    "collapsed": true
   },
   "outputs": [],
   "source": [
    "X1 = normalized_data.iloc[top3modelno].values\n",
    "with open('./rfc_E11.pkl', 'r') as f:\n",
    "    rfc = pickle.load(f)\n",
    "predictions = rfc.predict_proba(X1)[:,1]"
   ]
  },
  {
   "cell_type": "code",
   "execution_count": 24,
   "metadata": {
    "collapsed": false
   },
   "outputs": [
    {
     "name": "stdout",
     "output_type": "stream",
     "text": [
      "Biologically Relevant Complex. Predicted FiberDock Model no: 2 1 6\n"
     ]
    }
   ],
   "source": [
    "if np.any(predictions >= 0.21) : \n",
    "    sys.stdout.write(\"Biologically Relevant Complex. Predicted FiberDock Model no: \")\n",
    "    print \" \".join(str(p) for p in top3modelno)\n",
    "else :\n",
    "    print \"This is a Biologically Irrelevant Complex\""
   ]
  }
 ],
 "metadata": {
  "kernelspec": {
   "display_name": "Python 2",
   "language": "python",
   "name": "python2"
  },
  "language_info": {
   "codemirror_mode": {
    "name": "ipython",
    "version": 2
   },
   "file_extension": ".py",
   "mimetype": "text/x-python",
   "name": "python",
   "nbconvert_exporter": "python",
   "pygments_lexer": "ipython2",
   "version": "2.7.10"
  }
 },
 "nbformat": 4,
 "nbformat_minor": 0
}
